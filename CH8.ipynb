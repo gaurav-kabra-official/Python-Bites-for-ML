{
  "nbformat": 4,
  "nbformat_minor": 0,
  "metadata": {
    "colab": {
      "name": "CH8.ipynb",
      "provenance": []
    },
    "kernelspec": {
      "name": "python3",
      "display_name": "Python 3"
    }
  },
  "cells": [
    {
      "cell_type": "code",
      "metadata": {
        "id": "pWTKc6z7gIWN"
      },
      "source": [
        "# write sample text\r\n",
        "sample_text = \"Hola! My name is Gaurav. I am very pleased to meet you :)\""
      ],
      "execution_count": 1,
      "outputs": []
    },
    {
      "cell_type": "markdown",
      "metadata": {
        "id": "B_HWkaD6i8Rg"
      },
      "source": [
        "## Tokenize & Stop-words"
      ]
    },
    {
      "cell_type": "code",
      "metadata": {
        "colab": {
          "base_uri": "https://localhost:8080/"
        },
        "id": "p9l6qfp9i6kw",
        "outputId": "1fc5b16a-f8e9-4cfb-b5e8-400ad7f936b5"
      },
      "source": [
        "# load libs\r\n",
        "from nltk.tokenize import word_tokenize\r\n",
        "from nltk.corpus import stopwords\r\n",
        "import nltk\r\n",
        "nltk.download('punkt')\r\n",
        "nltk.download('stopwords')"
      ],
      "execution_count": 7,
      "outputs": [
        {
          "output_type": "stream",
          "text": [
            "[nltk_data] Downloading package punkt to /root/nltk_data...\n",
            "[nltk_data]   Package punkt is already up-to-date!\n",
            "[nltk_data] Downloading package stopwords to /root/nltk_data...\n",
            "[nltk_data]   Unzipping corpora/stopwords.zip.\n"
          ],
          "name": "stdout"
        },
        {
          "output_type": "execute_result",
          "data": {
            "text/plain": [
              "True"
            ]
          },
          "metadata": {
            "tags": []
          },
          "execution_count": 7
        }
      ]
    },
    {
      "cell_type": "code",
      "metadata": {
        "colab": {
          "base_uri": "https://localhost:8080/"
        },
        "id": "jE1PFhRvkJFj",
        "outputId": "36080039-134b-498f-ba24-1e26471dd3f8"
      },
      "source": [
        "len(stopwords.words('english')), stopwords.words('english')[:10]"
      ],
      "execution_count": 19,
      "outputs": [
        {
          "output_type": "execute_result",
          "data": {
            "text/plain": [
              "(179,\n",
              " ['i',\n",
              "  'me',\n",
              "  'my',\n",
              "  'myself',\n",
              "  'we',\n",
              "  'our',\n",
              "  'ours',\n",
              "  'ourselves',\n",
              "  'you',\n",
              "  \"you're\"])"
            ]
          },
          "metadata": {
            "tags": []
          },
          "execution_count": 19
        }
      ]
    },
    {
      "cell_type": "code",
      "metadata": {
        "colab": {
          "base_uri": "https://localhost:8080/"
        },
        "id": "lp0zHX9PjUUU",
        "outputId": "54982cc9-8c9f-47f1-f489-48e288616c47"
      },
      "source": [
        "word_tokens = word_tokenize(sample_text)\r\n",
        "word_tokens"
      ],
      "execution_count": 8,
      "outputs": [
        {
          "output_type": "execute_result",
          "data": {
            "text/plain": [
              "['Hola',\n",
              " '!',\n",
              " 'My',\n",
              " 'name',\n",
              " 'is',\n",
              " 'Gaurav',\n",
              " '.',\n",
              " 'I',\n",
              " 'am',\n",
              " 'very',\n",
              " 'pleased',\n",
              " 'to',\n",
              " 'meet',\n",
              " 'you',\n",
              " ':',\n",
              " ')']"
            ]
          },
          "metadata": {
            "tags": []
          },
          "execution_count": 8
        }
      ]
    },
    {
      "cell_type": "code",
      "metadata": {
        "id": "uvVwucLFjdug"
      },
      "source": [
        "removed_stop_words = [\r\n",
        "                      word for word in word_tokens if word not in stopwords.words('english')\r\n",
        "]"
      ],
      "execution_count": 9,
      "outputs": []
    },
    {
      "cell_type": "code",
      "metadata": {
        "colab": {
          "base_uri": "https://localhost:8080/"
        },
        "id": "N-4_j8X8j81x",
        "outputId": "d6af3211-faca-43d3-f578-5d739b62356c"
      },
      "source": [
        "removed_stop_words"
      ],
      "execution_count": 10,
      "outputs": [
        {
          "output_type": "execute_result",
          "data": {
            "text/plain": [
              "['Hola', '!', 'My', 'name', 'Gaurav', '.', 'I', 'pleased', 'meet', ':', ')']"
            ]
          },
          "metadata": {
            "tags": []
          },
          "execution_count": 10
        }
      ]
    },
    {
      "cell_type": "markdown",
      "metadata": {
        "id": "eY_d02dUkntA"
      },
      "source": [
        "## Stemming"
      ]
    },
    {
      "cell_type": "code",
      "metadata": {
        "id": "Zvqvjx79kFHp"
      },
      "source": [
        "from nltk.stem.porter import PorterStemmer"
      ],
      "execution_count": 20,
      "outputs": []
    },
    {
      "cell_type": "code",
      "metadata": {
        "colab": {
          "base_uri": "https://localhost:8080/"
        },
        "id": "320W6RWOkzUy",
        "outputId": "12aaed62-83d7-45b2-cdf1-bb88aa893a64"
      },
      "source": [
        "porter = PorterStemmer()\r\n",
        "[porter.stem(word) for word in word_tokens]"
      ],
      "execution_count": 22,
      "outputs": [
        {
          "output_type": "execute_result",
          "data": {
            "text/plain": [
              "['hola',\n",
              " '!',\n",
              " 'My',\n",
              " 'name',\n",
              " 'is',\n",
              " 'gaurav',\n",
              " '.',\n",
              " 'I',\n",
              " 'am',\n",
              " 'veri',\n",
              " 'pleas',\n",
              " 'to',\n",
              " 'meet',\n",
              " 'you',\n",
              " ':',\n",
              " ')']"
            ]
          },
          "metadata": {
            "tags": []
          },
          "execution_count": 22
        }
      ]
    },
    {
      "cell_type": "markdown",
      "metadata": {
        "id": "KGd_zJeWlU0i"
      },
      "source": [
        "## Bag-of-words"
      ]
    },
    {
      "cell_type": "code",
      "metadata": {
        "id": "FEJMq56ElBpF"
      },
      "source": [
        "from sklearn.feature_extraction.text import CountVectorizer"
      ],
      "execution_count": 23,
      "outputs": []
    },
    {
      "cell_type": "code",
      "metadata": {
        "id": "F2np_IhKlec5"
      },
      "source": [
        "c_vectorizer = CountVectorizer()\r\n",
        "bag_of_words = c_vectorizer.fit_transform(word_tokens)"
      ],
      "execution_count": 24,
      "outputs": []
    },
    {
      "cell_type": "code",
      "metadata": {
        "colab": {
          "base_uri": "https://localhost:8080/"
        },
        "id": "WTfR4ezglxnb",
        "outputId": "c4ecec67-0c09-46e0-868e-5ee986eafe5f"
      },
      "source": [
        "bag_of_words"
      ],
      "execution_count": 25,
      "outputs": [
        {
          "output_type": "execute_result",
          "data": {
            "text/plain": [
              "<16x11 sparse matrix of type '<class 'numpy.int64'>'\n",
              "\twith 11 stored elements in Compressed Sparse Row format>"
            ]
          },
          "metadata": {
            "tags": []
          },
          "execution_count": 25
        }
      ]
    },
    {
      "cell_type": "code",
      "metadata": {
        "colab": {
          "base_uri": "https://localhost:8080/"
        },
        "id": "RkRKUbvMlzVe",
        "outputId": "d56975d4-4d61-4d2c-a59c-24205f5dd994"
      },
      "source": [
        "bag_of_words.toarray()"
      ],
      "execution_count": 26,
      "outputs": [
        {
          "output_type": "execute_result",
          "data": {
            "text/plain": [
              "array([[0, 0, 1, 0, 0, 0, 0, 0, 0, 0, 0],\n",
              "       [0, 0, 0, 0, 0, 0, 0, 0, 0, 0, 0],\n",
              "       [0, 0, 0, 0, 0, 1, 0, 0, 0, 0, 0],\n",
              "       [0, 0, 0, 0, 0, 0, 1, 0, 0, 0, 0],\n",
              "       [0, 0, 0, 1, 0, 0, 0, 0, 0, 0, 0],\n",
              "       [0, 1, 0, 0, 0, 0, 0, 0, 0, 0, 0],\n",
              "       [0, 0, 0, 0, 0, 0, 0, 0, 0, 0, 0],\n",
              "       [0, 0, 0, 0, 0, 0, 0, 0, 0, 0, 0],\n",
              "       [1, 0, 0, 0, 0, 0, 0, 0, 0, 0, 0],\n",
              "       [0, 0, 0, 0, 0, 0, 0, 0, 0, 1, 0],\n",
              "       [0, 0, 0, 0, 0, 0, 0, 1, 0, 0, 0],\n",
              "       [0, 0, 0, 0, 0, 0, 0, 0, 1, 0, 0],\n",
              "       [0, 0, 0, 0, 1, 0, 0, 0, 0, 0, 0],\n",
              "       [0, 0, 0, 0, 0, 0, 0, 0, 0, 0, 1],\n",
              "       [0, 0, 0, 0, 0, 0, 0, 0, 0, 0, 0],\n",
              "       [0, 0, 0, 0, 0, 0, 0, 0, 0, 0, 0]])"
            ]
          },
          "metadata": {
            "tags": []
          },
          "execution_count": 26
        }
      ]
    },
    {
      "cell_type": "code",
      "metadata": {
        "colab": {
          "base_uri": "https://localhost:8080/"
        },
        "id": "KMcwU6CBl2fo",
        "outputId": "6e541537-c9a2-436a-8787-7e76bbe2c679"
      },
      "source": [
        "# Reduce this sparse matrix (CSR)\r\n",
        "from scipy import sparse\r\n",
        "print(sparse.csr_matrix(bag_of_words.toarray()))"
      ],
      "execution_count": 41,
      "outputs": [
        {
          "output_type": "stream",
          "text": [
            "  (0, 2)\t1\n",
            "  (2, 5)\t1\n",
            "  (3, 6)\t1\n",
            "  (4, 3)\t1\n",
            "  (5, 1)\t1\n",
            "  (8, 0)\t1\n",
            "  (9, 9)\t1\n",
            "  (10, 7)\t1\n",
            "  (11, 8)\t1\n",
            "  (12, 4)\t1\n",
            "  (13, 10)\t1\n"
          ],
          "name": "stdout"
        }
      ]
    },
    {
      "cell_type": "code",
      "metadata": {
        "colab": {
          "base_uri": "https://localhost:8080/"
        },
        "id": "MjNmq6Ixl7H-",
        "outputId": "8e88b193-e9f9-44ac-d7f7-4cd2e7da90f2"
      },
      "source": [
        "c_vectorizer.get_feature_names()"
      ],
      "execution_count": 29,
      "outputs": [
        {
          "output_type": "execute_result",
          "data": {
            "text/plain": [
              "['am',\n",
              " 'gaurav',\n",
              " 'hola',\n",
              " 'is',\n",
              " 'meet',\n",
              " 'my',\n",
              " 'name',\n",
              " 'pleased',\n",
              " 'to',\n",
              " 'very',\n",
              " 'you']"
            ]
          },
          "metadata": {
            "tags": []
          },
          "execution_count": 29
        }
      ]
    },
    {
      "cell_type": "markdown",
      "metadata": {
        "id": "nVDvZB1HmTTL"
      },
      "source": [
        "## Word Importance"
      ]
    },
    {
      "cell_type": "code",
      "metadata": {
        "id": "r3Jmrp3cmDfE"
      },
      "source": [
        "from sklearn.feature_extraction.text import TfidfVectorizer"
      ],
      "execution_count": 30,
      "outputs": []
    },
    {
      "cell_type": "code",
      "metadata": {
        "colab": {
          "base_uri": "https://localhost:8080/"
        },
        "id": "iVtJpTebmcQR",
        "outputId": "0a144408-0aad-47b3-887c-08d83d99178b"
      },
      "source": [
        "tfidf = TfidfVectorizer()\r\n",
        "feature_matrix = tfidf.fit_transform(word_tokens)\r\n",
        "feature_matrix"
      ],
      "execution_count": 31,
      "outputs": [
        {
          "output_type": "execute_result",
          "data": {
            "text/plain": [
              "<16x11 sparse matrix of type '<class 'numpy.float64'>'\n",
              "\twith 11 stored elements in Compressed Sparse Row format>"
            ]
          },
          "metadata": {
            "tags": []
          },
          "execution_count": 31
        }
      ]
    },
    {
      "cell_type": "code",
      "metadata": {
        "colab": {
          "base_uri": "https://localhost:8080/"
        },
        "id": "40kKzjLOmqhH",
        "outputId": "1f45806b-f2d0-4d59-d019-50aed2470c15"
      },
      "source": [
        "feature_matrix.toarray()"
      ],
      "execution_count": 32,
      "outputs": [
        {
          "output_type": "execute_result",
          "data": {
            "text/plain": [
              "array([[0., 0., 1., 0., 0., 0., 0., 0., 0., 0., 0.],\n",
              "       [0., 0., 0., 0., 0., 0., 0., 0., 0., 0., 0.],\n",
              "       [0., 0., 0., 0., 0., 1., 0., 0., 0., 0., 0.],\n",
              "       [0., 0., 0., 0., 0., 0., 1., 0., 0., 0., 0.],\n",
              "       [0., 0., 0., 1., 0., 0., 0., 0., 0., 0., 0.],\n",
              "       [0., 1., 0., 0., 0., 0., 0., 0., 0., 0., 0.],\n",
              "       [0., 0., 0., 0., 0., 0., 0., 0., 0., 0., 0.],\n",
              "       [0., 0., 0., 0., 0., 0., 0., 0., 0., 0., 0.],\n",
              "       [1., 0., 0., 0., 0., 0., 0., 0., 0., 0., 0.],\n",
              "       [0., 0., 0., 0., 0., 0., 0., 0., 0., 1., 0.],\n",
              "       [0., 0., 0., 0., 0., 0., 0., 1., 0., 0., 0.],\n",
              "       [0., 0., 0., 0., 0., 0., 0., 0., 1., 0., 0.],\n",
              "       [0., 0., 0., 0., 1., 0., 0., 0., 0., 0., 0.],\n",
              "       [0., 0., 0., 0., 0., 0., 0., 0., 0., 0., 1.],\n",
              "       [0., 0., 0., 0., 0., 0., 0., 0., 0., 0., 0.],\n",
              "       [0., 0., 0., 0., 0., 0., 0., 0., 0., 0., 0.]])"
            ]
          },
          "metadata": {
            "tags": []
          },
          "execution_count": 32
        }
      ]
    },
    {
      "cell_type": "code",
      "metadata": {
        "colab": {
          "base_uri": "https://localhost:8080/"
        },
        "id": "JAfTpfFsmtBm",
        "outputId": "18af7760-3f24-4a6c-fbe9-d8e6ece50db1"
      },
      "source": [
        "tfidf.vocabulary_"
      ],
      "execution_count": 34,
      "outputs": [
        {
          "output_type": "execute_result",
          "data": {
            "text/plain": [
              "{'am': 0,\n",
              " 'gaurav': 1,\n",
              " 'hola': 2,\n",
              " 'is': 3,\n",
              " 'meet': 4,\n",
              " 'my': 5,\n",
              " 'name': 6,\n",
              " 'pleased': 7,\n",
              " 'to': 8,\n",
              " 'very': 9,\n",
              " 'you': 10}"
            ]
          },
          "metadata": {
            "tags": []
          },
          "execution_count": 34
        }
      ]
    },
    {
      "cell_type": "markdown",
      "metadata": {
        "id": "0AFDZBmrno3m"
      },
      "source": [
        "$BY Gaurav Kabra$"
      ]
    }
  ]
}