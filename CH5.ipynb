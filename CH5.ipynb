{
  "nbformat": 4,
  "nbformat_minor": 0,
  "metadata": {
    "colab": {
      "name": "CH5.ipynb",
      "provenance": []
    },
    "kernelspec": {
      "name": "python3",
      "display_name": "Python 3"
    }
  },
  "cells": [
    {
      "cell_type": "code",
      "metadata": {
        "id": "iRcqfAVc-qaZ"
      },
      "source": [
        "# load data\r\n",
        "from sklearn.datasets import load_boston\r\n",
        "\r\n",
        "boston = load_boston()\r\n",
        "features, target = boston.data, boston.target"
      ],
      "execution_count": 1,
      "outputs": []
    },
    {
      "cell_type": "code",
      "metadata": {
        "colab": {
          "base_uri": "https://localhost:8080/"
        },
        "id": "yxu8szY2CYZD",
        "outputId": "1d8a6896-75f9-4731-8a6f-332edb8c7e1a"
      },
      "source": [
        "features.shape, target.shape"
      ],
      "execution_count": 3,
      "outputs": [
        {
          "output_type": "execute_result",
          "data": {
            "text/plain": [
              "((506, 13), (506,))"
            ]
          },
          "metadata": {
            "tags": []
          },
          "execution_count": 3
        }
      ]
    },
    {
      "cell_type": "code",
      "metadata": {
        "id": "S9BTpY-nC2Mo"
      },
      "source": [
        "# split\r\n",
        "from sklearn.model_selection import train_test_split\r\n",
        "x_train, x_test, y_train, y_test = train_test_split(features, target, test_size=0.2)"
      ],
      "execution_count": 8,
      "outputs": []
    },
    {
      "cell_type": "code",
      "metadata": {
        "id": "ddwhtRqcCbHs"
      },
      "source": [
        "from sklearn.linear_model import LinearRegression as LR\r\n",
        "\r\n",
        "# make obj\r\n",
        "lr = LR()\r\n",
        "\r\n",
        "# make model\r\n",
        "model = lr.fit(features, target)"
      ],
      "execution_count": 10,
      "outputs": []
    },
    {
      "cell_type": "code",
      "metadata": {
        "colab": {
          "base_uri": "https://localhost:8080/"
        },
        "id": "3sk0-TxfD4G4",
        "outputId": "305b692b-27f1-45ac-f6de-bacbb6184570"
      },
      "source": [
        "# characteristics\r\n",
        "model.coef_, model.intercept_ # intercept same as bias"
      ],
      "execution_count": 11,
      "outputs": [
        {
          "output_type": "execute_result",
          "data": {
            "text/plain": [
              "(array([-1.08011358e-01,  4.64204584e-02,  2.05586264e-02,  2.68673382e+00,\n",
              "        -1.77666112e+01,  3.80986521e+00,  6.92224640e-04, -1.47556685e+00,\n",
              "         3.06049479e-01, -1.23345939e-02, -9.52747232e-01,  9.31168327e-03,\n",
              "        -5.24758378e-01]), 36.459488385090125)"
            ]
          },
          "metadata": {
            "tags": []
          },
          "execution_count": 11
        }
      ]
    },
    {
      "cell_type": "code",
      "metadata": {
        "colab": {
          "base_uri": "https://localhost:8080/",
          "height": 282
        },
        "id": "zinPePjUEAxU",
        "outputId": "9fb65fe1-0496-4a90-c280-6039faf3e145"
      },
      "source": [
        "# visualize\r\n",
        "import matplotlib.pyplot as plt\r\n",
        "\r\n",
        "predicted = model.predict(x_test)\r\n",
        "expected = y_test\r\n",
        "plt.plot([0,50], [0,50], '--r')\r\n",
        "plt.scatter(predicted, expected)"
      ],
      "execution_count": 18,
      "outputs": [
        {
          "output_type": "execute_result",
          "data": {
            "text/plain": [
              "<matplotlib.collections.PathCollection at 0x7f9b0cea64e0>"
            ]
          },
          "metadata": {
            "tags": []
          },
          "execution_count": 18
        },
        {
          "output_type": "display_data",
          "data": {
            "image/png": "[encoded data removed]",
            "text/plain": [
              "<Figure size 432x288 with 1 Axes>"
            ]
          },
          "metadata": {
            "tags": [],
            "needs_background": "light"
          }
        }
      ]
    },
    {
      "cell_type": "markdown",
      "metadata": {
        "id": "L6rdTvzuGsD4"
      },
      "source": [
        "## Regularization"
      ]
    },
    {
      "cell_type": "code",
      "metadata": {
        "id": "Wsl4TlDLEaVj"
      },
      "source": [
        "# Ridge then Lasso\r\n",
        "from sklearn.linear_model import Ridge, Lasso\r\n",
        "\r\n",
        "r, l = Ridge(), Lasso()"
      ],
      "execution_count": 19,
      "outputs": []
    },
    {
      "cell_type": "code",
      "metadata": {
        "colab": {
          "base_uri": "https://localhost:8080/",
          "height": 282
        },
        "id": "pyj4vkbCIZwj",
        "outputId": "b83d8f3d-fbde-41aa-a3e0-b3000cf21d06"
      },
      "source": [
        "model = r.fit(x_train, y_train)\r\n",
        "predicted = model.predict(x_test)\r\n",
        "expected = y_test\r\n",
        "plt.plot([0,50], [0,50], '--r')\r\n",
        "plt.scatter(predicted, expected)"
      ],
      "execution_count": 21,
      "outputs": [
        {
          "output_type": "execute_result",
          "data": {
            "text/plain": [
              "<matplotlib.collections.PathCollection at 0x7f9b0cdb25f8>"
            ]
          },
          "metadata": {
            "tags": []
          },
          "execution_count": 21
        },
        {
          "output_type": "display_data",
          "data": {
            "image/png": "[encoded data removed]",
            "text/plain": [
              "<Figure size 432x288 with 1 Axes>"
            ]
          },
          "metadata": {
            "tags": [],
            "needs_background": "light"
          }
        }
      ]
    },
    {
      "cell_type": "code",
      "metadata": {
        "colab": {
          "base_uri": "https://localhost:8080/"
        },
        "id": "m0RF-svCImuM",
        "outputId": "270b4dec-857a-486e-e373-ecda89ff719a"
      },
      "source": [
        "# Use optimum alpha\r\n",
        "from sklearn.linear_model import RidgeCV\r\n",
        "import numpy as np\r\n",
        "r_cv = RidgeCV(alphas=[0.1, 0.5, 0.9])\r\n",
        "\r\n",
        "model = r_cv.fit(x_train, y_train)\r\n",
        "model.alpha_"
      ],
      "execution_count": 33,
      "outputs": [
        {
          "output_type": "execute_result",
          "data": {
            "text/plain": [
              "0.1"
            ]
          },
          "metadata": {
            "tags": []
          },
          "execution_count": 33
        }
      ]
    },
    {
      "cell_type": "code",
      "metadata": {
        "colab": {
          "base_uri": "https://localhost:8080/",
          "height": 282
        },
        "id": "hmqXyNFCMOqa",
        "outputId": "d3ca72ce-80d9-45ce-b6fe-bbab3b57c780"
      },
      "source": [
        "# Let us use this alpha\r\n",
        "r = Ridge(alpha=0.1)\r\n",
        "model = r.fit(x_train, y_train)\r\n",
        "predicted = model.predict(x_test)\r\n",
        "expected = y_test\r\n",
        "plt.plot([0,50], [0,50], '--r')\r\n",
        "plt.scatter(predicted, expected)"
      ],
      "execution_count": 34,
      "outputs": [
        {
          "output_type": "execute_result",
          "data": {
            "text/plain": [
              "<matplotlib.collections.PathCollection at 0x7f9b0ccf5710>"
            ]
          },
          "metadata": {
            "tags": []
          },
          "execution_count": 34
        },
        {
          "output_type": "display_data",
          "data": {
            "image/png": "[encoded data removed]",
            "text/plain": [
              "<Figure size 432x288 with 1 Axes>"
            ]
          },
          "metadata": {
            "tags": [],
            "needs_background": "light"
          }
        }
      ]
    },
    {
      "cell_type": "code",
      "metadata": {
        "colab": {
          "base_uri": "https://localhost:8080/",
          "height": 282
        },
        "id": "AaxjjwGrILHP",
        "outputId": "225f2849-d9c0-43ab-ff6e-123302ae3649"
      },
      "source": [
        "model = l.fit(x_train, y_train)\r\n",
        "predicted = model.predict(x_test)\r\n",
        "expected = y_test\r\n",
        "plt.plot([0,50], [0,50], '--r')\r\n",
        "plt.scatter(predicted, expected)"
      ],
      "execution_count": 20,
      "outputs": [
        {
          "output_type": "execute_result",
          "data": {
            "text/plain": [
              "<matplotlib.collections.PathCollection at 0x7f9b0cdc7eb8>"
            ]
          },
          "metadata": {
            "tags": []
          },
          "execution_count": 20
        },
        {
          "output_type": "display_data",
          "data": {
            "image/png": "[encoded data removed]",
            "text/plain": [
              "<Figure size 432x288 with 1 Axes>"
            ]
          },
          "metadata": {
            "tags": [],
            "needs_background": "light"
          }
        }
      ]
    },
    {
      "cell_type": "markdown",
      "metadata": {
        "id": "1mOScHasMeqn"
      },
      "source": [
        "$BY Gaurav Kabra$"
      ]
    }
  ]
}