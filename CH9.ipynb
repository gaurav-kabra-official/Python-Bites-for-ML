{
  "nbformat": 4,
  "nbformat_minor": 0,
  "metadata": {
    "colab": {
      "name": "CH9.ipynb",
      "provenance": []
    },
    "kernelspec": {
      "name": "python3",
      "display_name": "Python 3"
    }
  },
  "cells": [
    {
      "cell_type": "code",
      "metadata": {
        "id": "9877iPnwoJgr"
      },
      "source": [
        "# load libs\r\n",
        "from sklearn import datasets\r\n",
        "from sklearn.naive_bayes import GaussianNB, MultinomialNB, BernoulliNB"
      ],
      "execution_count": 1,
      "outputs": []
    },
    {
      "cell_type": "code",
      "metadata": {
        "id": "m-J9ZK8Cogg8"
      },
      "source": [
        "# load data\r\n",
        "iris = datasets.load_iris()\r\n",
        "features, target = iris.data, iris.target"
      ],
      "execution_count": 2,
      "outputs": []
    },
    {
      "cell_type": "code",
      "metadata": {
        "id": "6AufcZmeouDx"
      },
      "source": [
        "# continuous values\r\n",
        "gnb = GaussianNB()\r\n",
        "model = gnb.fit(features, target)"
      ],
      "execution_count": 4,
      "outputs": []
    },
    {
      "cell_type": "code",
      "metadata": {
        "colab": {
          "base_uri": "https://localhost:8080/"
        },
        "id": "JNgp5kwro5Ce",
        "outputId": "3c1c23bf-faea-4354-a88b-e53336bf8bdc"
      },
      "source": [
        "iris.data[:1], iris.target[:1]"
      ],
      "execution_count": 6,
      "outputs": [
        {
          "output_type": "execute_result",
          "data": {
            "text/plain": [
              "(array([[5.1, 3.5, 1.4, 0.2]]), array([0]))"
            ]
          },
          "metadata": {
            "tags": []
          },
          "execution_count": 6
        }
      ]
    },
    {
      "cell_type": "code",
      "metadata": {
        "colab": {
          "base_uri": "https://localhost:8080/"
        },
        "id": "EusqAYy9pdxO",
        "outputId": "4838d345-d363-43e0-967c-af54f39ab664"
      },
      "source": [
        "# returns probabilities near 0 or 1\r\n",
        "model.predict_proba([[5.1, 3.5, 1.4, 0.2]])"
      ],
      "execution_count": 13,
      "outputs": [
        {
          "output_type": "execute_result",
          "data": {
            "text/plain": [
              "array([[0.87839436, 0.06232423, 0.05928141]])"
            ]
          },
          "metadata": {
            "tags": []
          },
          "execution_count": 13
        }
      ]
    },
    {
      "cell_type": "code",
      "metadata": {
        "colab": {
          "base_uri": "https://localhost:8080/"
        },
        "id": "G39Mdvr5pAeY",
        "outputId": "cb34c514-1fb7-451c-98e2-bb95efe17f8f"
      },
      "source": [
        "model.predict([[5.1, 3.5, 1.4, 0.2]])"
      ],
      "execution_count": 7,
      "outputs": [
        {
          "output_type": "execute_result",
          "data": {
            "text/plain": [
              "array([0])"
            ]
          },
          "metadata": {
            "tags": []
          },
          "execution_count": 7
        }
      ]
    },
    {
      "cell_type": "markdown",
      "metadata": {
        "id": "SVDZ_5qFpiRt"
      },
      "source": [
        "## Calibration"
      ]
    },
    {
      "cell_type": "code",
      "metadata": {
        "id": "iW3KPCeFptQn"
      },
      "source": [
        "from sklearn.calibration import CalibratedClassifierCV"
      ],
      "execution_count": 9,
      "outputs": []
    },
    {
      "cell_type": "code",
      "metadata": {
        "id": "OOzPtGAbpz-R"
      },
      "source": [
        "gnb_sigmoid = CalibratedClassifierCV(gnb)\r\n",
        "model = gnb_sigmoid.fit(features, target)"
      ],
      "execution_count": 11,
      "outputs": []
    },
    {
      "cell_type": "code",
      "metadata": {
        "colab": {
          "base_uri": "https://localhost:8080/"
        },
        "id": "kFtr4rhqqNAA",
        "outputId": "dd8814a3-33a1-401d-b9ff-ddd8676cb7cf"
      },
      "source": [
        "# returns reasonable probabilities\r\n",
        "model.predict_proba([[5.1, 3.5, 1.4, 0.2]])"
      ],
      "execution_count": 12,
      "outputs": [
        {
          "output_type": "execute_result",
          "data": {
            "text/plain": [
              "array([[0.87839436, 0.06232423, 0.05928141]])"
            ]
          },
          "metadata": {
            "tags": []
          },
          "execution_count": 12
        }
      ]
    },
    {
      "cell_type": "code",
      "metadata": {
        "colab": {
          "base_uri": "https://localhost:8080/"
        },
        "id": "5kqgKtxvpJsh",
        "outputId": "5d15b53c-4cd6-4973-a0cf-4be49a4d6e27"
      },
      "source": [
        "model.predict([[5.1, 3.5, 1.4, 0.2]])"
      ],
      "execution_count": 14,
      "outputs": [
        {
          "output_type": "execute_result",
          "data": {
            "text/plain": [
              "array([0])"
            ]
          },
          "metadata": {
            "tags": []
          },
          "execution_count": 14
        }
      ]
    },
    {
      "cell_type": "markdown",
      "metadata": {
        "id": "LFxZa3dNqlGE"
      },
      "source": [
        "$BY Gaurav Kabra$"
      ]
    }
  ]
}