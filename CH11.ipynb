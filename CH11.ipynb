{
  "nbformat": 4,
  "nbformat_minor": 0,
  "metadata": {
    "colab": {
      "name": "CH11.ipynb",
      "provenance": []
    },
    "kernelspec": {
      "name": "python3",
      "display_name": "Python 3"
    }
  },
  "cells": [
    {
      "cell_type": "markdown",
      "metadata": {
        "id": "Ofru5rmjVrVj"
      },
      "source": [
        "## Prepare data"
      ]
    },
    {
      "cell_type": "code",
      "metadata": {
        "id": "rGqM3TcRTpA6"
      },
      "source": [
        "# load libs\r\n",
        "%matplotlib inline\r\n",
        "import numpy as np\r\n",
        "import matplotlib.pyplot as plt\r\n",
        "from scipy import stats\r\n",
        "\r\n",
        "# use seaborn plotting defaults\r\n",
        "import seaborn as sns; sns.set()"
      ],
      "execution_count": 1,
      "outputs": []
    },
    {
      "cell_type": "code",
      "metadata": {
        "colab": {
          "base_uri": "https://localhost:8080/",
          "height": 132
        },
        "id": "AZYYx8LmUYkz",
        "outputId": "35ccc8c8-e189-4f4b-9d24-1fa4983155b9"
      },
      "source": [
        "# make dummy data\r\n",
        "from sklearn.datasets import make_blobs\r\n",
        "X, y = make_blobs(n_samples=50, centers=2,\r\n",
        "                  random_state=0, cluster_std=0.7, random_state=101)"
      ],
      "execution_count": 26,
      "outputs": [
        {
          "output_type": "error",
          "ename": "SyntaxError",
          "evalue": "ignored",
          "traceback": [
            "\u001b[0;36m  File \u001b[0;32m\"<ipython-input-26-847490b73a3b>\"\u001b[0;36m, line \u001b[0;32m4\u001b[0m\n\u001b[0;31m    random_state=0, cluster_std=0.7, random_state=101)\u001b[0m\n\u001b[0m                                    ^\u001b[0m\n\u001b[0;31mSyntaxError\u001b[0m\u001b[0;31m:\u001b[0m keyword argument repeated\n"
          ]
        }
      ]
    },
    {
      "cell_type": "code",
      "metadata": {
        "colab": {
          "base_uri": "https://localhost:8080/"
        },
        "id": "4WOmfnqfUbvC",
        "outputId": "efd429bc-b506-4cb4-fd43-c204a35730d6"
      },
      "source": [
        "X"
      ],
      "execution_count": 27,
      "outputs": [
        {
          "output_type": "execute_result",
          "data": {
            "text/plain": [
              "array([[ 1.30574069,  1.63577987],\n",
              "       [ 1.77304366,  1.75337521],\n",
              "       [ 1.50899649,  4.38895984],\n",
              "       [ 2.02212543,  4.16017654],\n",
              "       [ 2.10182958,  1.10939399],\n",
              "       [ 2.852848  ,  0.03328559],\n",
              "       [ 3.37347301, -0.04576768],\n",
              "       [ 2.06261754,  2.14777301],\n",
              "       [ 2.03553996,  1.19749597],\n",
              "       [-0.21811905,  5.6693301 ],\n",
              "       [ 1.83747356,  5.14545322],\n",
              "       [ 0.09931333,  4.84803058],\n",
              "       [ 1.08473328,  4.56850109],\n",
              "       [ 1.44570952,  0.49246889],\n",
              "       [ 1.58137542,  3.78427181],\n",
              "       [ 1.19541747,  3.70592031],\n",
              "       [ 0.70514131,  4.0921754 ],\n",
              "       [ 2.33690667,  0.4182966 ],\n",
              "       [ 0.35482006,  2.9172298 ],\n",
              "       [ 0.90401688,  4.59120628],\n",
              "       [ 1.61124206,  0.64374484],\n",
              "       [ 2.304724  ,  1.39226488],\n",
              "       [ 1.42015867,  0.93402544],\n",
              "       [ 1.58454521,  0.64597645],\n",
              "       [ 2.56563091,  0.9879517 ],\n",
              "       [ 2.56509832,  3.28573136],\n",
              "       [ 0.61951355,  3.99713532],\n",
              "       [-0.81082279,  4.76132034],\n",
              "       [ 2.17946582,  0.616417  ],\n",
              "       [ 2.28356067,  3.61969281],\n",
              "       [ 2.20106001,  1.58131099],\n",
              "       [ 0.34944349,  4.57461908],\n",
              "       [ 1.28697434,  4.53735936],\n",
              "       [-0.15345841,  4.15486913],\n",
              "       [ 2.04921553,  5.33233847],\n",
              "       [ 1.83718075,  0.9369794 ],\n",
              "       [ 2.14410599,  1.17905621],\n",
              "       [ 1.07710058,  5.32177878],\n",
              "       [ 2.38123123, -0.17770692],\n",
              "       [ 0.61870648,  3.4773448 ],\n",
              "       [ 0.91412868,  1.22161124],\n",
              "       [ 1.64133197,  4.19783728],\n",
              "       [ 1.48606512, -0.31073416],\n",
              "       [ 1.23966263,  1.5282422 ],\n",
              "       [ 1.00830104,  4.17275863],\n",
              "       [ 1.16592802,  1.57624136],\n",
              "       [ 3.09704406,  2.22478608],\n",
              "       [ 0.242283  ,  3.30977477],\n",
              "       [ 2.88041322,  0.77171627],\n",
              "       [ 0.73273157,  4.41323161]])"
            ]
          },
          "metadata": {
            "tags": []
          },
          "execution_count": 27
        }
      ]
    },
    {
      "cell_type": "code",
      "metadata": {
        "colab": {
          "base_uri": "https://localhost:8080/"
        },
        "id": "tcUudQgUVEXF",
        "outputId": "c47be02f-0251-47c9-9dbb-b235dcd20e07"
      },
      "source": [
        "y"
      ],
      "execution_count": 28,
      "outputs": [
        {
          "output_type": "execute_result",
          "data": {
            "text/plain": [
              "array([1, 1, 0, 0, 1, 1, 1, 1, 1, 0, 0, 0, 0, 1, 0, 0, 0, 1, 0, 0, 1, 1,\n",
              "       1, 1, 1, 0, 0, 0, 1, 0, 1, 0, 0, 0, 0, 1, 1, 0, 1, 0, 1, 0, 1, 1,\n",
              "       0, 1, 1, 0, 1, 0])"
            ]
          },
          "metadata": {
            "tags": []
          },
          "execution_count": 28
        }
      ]
    },
    {
      "cell_type": "code",
      "metadata": {
        "colab": {
          "base_uri": "https://localhost:8080/",
          "height": 285
        },
        "id": "rOq1ZLIBVFuc",
        "outputId": "13234069-1674-4881-e087-5842970203c4"
      },
      "source": [
        "plt.scatter(X[:, 0], X[:, 1], c=y, cmap='autumn')"
      ],
      "execution_count": 29,
      "outputs": [
        {
          "output_type": "execute_result",
          "data": {
            "text/plain": [
              "<matplotlib.collections.PathCollection at 0x7fad6a0a52e8>"
            ]
          },
          "metadata": {
            "tags": []
          },
          "execution_count": 29
        },
        {
          "output_type": "display_data",
          "data": {
            "image/png": "[encoded data removed]",
            "text/plain": [
              "<Figure size 432x288 with 1 Axes>"
            ]
          },
          "metadata": {
            "tags": [],
            "needs_background": "light"
          }
        }
      ]
    },
    {
      "cell_type": "markdown",
      "metadata": {
        "id": "xoqEOVrKVpD9"
      },
      "source": [
        "## Model"
      ]
    },
    {
      "cell_type": "code",
      "metadata": {
        "colab": {
          "base_uri": "https://localhost:8080/"
        },
        "id": "5scdVEUUVJK6",
        "outputId": "1033f1b0-adfa-455c-fbce-d6f867322621"
      },
      "source": [
        "from sklearn.svm import SVC\r\n",
        "model = SVC(kernel='linear')\r\n",
        "model.fit(X, y)"
      ],
      "execution_count": 41,
      "outputs": [
        {
          "output_type": "execute_result",
          "data": {
            "text/plain": [
              "SVC(C=1.0, break_ties=False, cache_size=200, class_weight=None, coef0=0.0,\n",
              "    decision_function_shape='ovr', degree=3, gamma='scale', kernel='linear',\n",
              "    max_iter=-1, probability=False, random_state=None, shrinking=True,\n",
              "    tol=0.001, verbose=False)"
            ]
          },
          "metadata": {
            "tags": []
          },
          "execution_count": 41
        }
      ]
    },
    {
      "cell_type": "code",
      "metadata": {
        "colab": {
          "base_uri": "https://localhost:8080/"
        },
        "id": "qWRqTMf4Wymh",
        "outputId": "1b573ac1-fbb3-4d7c-e286-48be802d6af7"
      },
      "source": [
        "model.coef_"
      ],
      "execution_count": 42,
      "outputs": [
        {
          "output_type": "execute_result",
          "data": {
            "text/plain": [
              "array([[ 0.38537548, -1.36215247]])"
            ]
          },
          "metadata": {
            "tags": []
          },
          "execution_count": 42
        }
      ]
    },
    {
      "cell_type": "code",
      "metadata": {
        "colab": {
          "base_uri": "https://localhost:8080/"
        },
        "id": "G2jhu3ZcW1Zt",
        "outputId": "b3b95585-b45f-4b9b-c945-9841521cf58a"
      },
      "source": [
        "model.intercept_"
      ],
      "execution_count": 43,
      "outputs": [
        {
          "output_type": "execute_result",
          "data": {
            "text/plain": [
              "array([2.83697223])"
            ]
          },
          "metadata": {
            "tags": []
          },
          "execution_count": 43
        }
      ]
    },
    {
      "cell_type": "code",
      "metadata": {
        "colab": {
          "base_uri": "https://localhost:8080/"
        },
        "id": "YkMlI9LfYNJ9",
        "outputId": "30d3d050-dc8f-490a-ed5f-0970933ca229"
      },
      "source": [
        "model.support_"
      ],
      "execution_count": 45,
      "outputs": [
        {
          "output_type": "execute_result",
          "data": {
            "text/plain": [
              "array([18, 25,  7, 46], dtype=int32)"
            ]
          },
          "metadata": {
            "tags": []
          },
          "execution_count": 45
        }
      ]
    },
    {
      "cell_type": "code",
      "metadata": {
        "colab": {
          "base_uri": "https://localhost:8080/"
        },
        "id": "sc1EyLnRYPkU",
        "outputId": "340f0718-03d7-41b3-c6ed-7c9ebff40cf3"
      },
      "source": [
        "model.support_vectors_"
      ],
      "execution_count": 46,
      "outputs": [
        {
          "output_type": "execute_result",
          "data": {
            "text/plain": [
              "array([[0.35482006, 2.9172298 ],\n",
              "       [2.56509832, 3.28573136],\n",
              "       [2.06261754, 2.14777301],\n",
              "       [3.09704406, 2.22478608]])"
            ]
          },
          "metadata": {
            "tags": []
          },
          "execution_count": 46
        }
      ]
    },
    {
      "cell_type": "code",
      "metadata": {
        "colab": {
          "base_uri": "https://localhost:8080/"
        },
        "id": "HN_f_0hPYSIb",
        "outputId": "43b1d0c4-892d-4253-856c-418db0b87abd"
      },
      "source": [
        "model.n_support_"
      ],
      "execution_count": 48,
      "outputs": [
        {
          "output_type": "execute_result",
          "data": {
            "text/plain": [
              "array([2, 2], dtype=int32)"
            ]
          },
          "metadata": {
            "tags": []
          },
          "execution_count": 48
        }
      ]
    },
    {
      "cell_type": "code",
      "metadata": {
        "colab": {
          "base_uri": "https://localhost:8080/",
          "height": 268
        },
        "id": "V-R_N4y7VxMQ",
        "outputId": "641d413e-706a-41cd-8fc0-b64eceb0d1a4"
      },
      "source": [
        "# visualize\r\n",
        "plt.scatter(X[:, 0], X[:, 1], c=y, cmap='autumn')\r\n",
        "w = model.coef_[0]\r\n",
        "a = -w[0]/w[1]\r\n",
        "xx = np.linspace(-2, 5)\r\n",
        "yy = a*xx - (model.intercept_[0]) / w[1]\r\n",
        "plt.plot(xx, yy)\r\n",
        "plt.show()"
      ],
      "execution_count": 44,
      "outputs": [
        {
          "output_type": "display_data",
          "data": {
            "image/png": "[encoded data removed]",
            "text/plain": [
              "<Figure size 432x288 with 1 Axes>"
            ]
          },
          "metadata": {
            "tags": [],
            "needs_background": "light"
          }
        }
      ]
    },
    {
      "cell_type": "markdown",
      "metadata": {
        "id": "dEHgRcPxaNhG"
      },
      "source": [
        "## Save & Load"
      ]
    },
    {
      "cell_type": "code",
      "metadata": {
        "colab": {
          "base_uri": "https://localhost:8080/"
        },
        "id": "3esAGWPOXOPd",
        "outputId": "814a32db-2c91-47a3-d7f1-e88f1b61bc6a"
      },
      "source": [
        "# Save model\r\n",
        "import joblib\r\n",
        "# serializes objectto save to a file\r\n",
        "# https://stackoverflow.com/a/44930921\r\n",
        "joblib.dump(model, 'svc_model.pkl')"
      ],
      "execution_count": 54,
      "outputs": [
        {
          "output_type": "execute_result",
          "data": {
            "text/plain": [
              "['svc_model.pklee']"
            ]
          },
          "metadata": {
            "tags": []
          },
          "execution_count": 54
        }
      ]
    },
    {
      "cell_type": "code",
      "metadata": {
        "id": "2KfuuFmyYmS9"
      },
      "source": [
        "with open('svc_model.pkl', 'rb') as f:\r\n",
        "    data = joblib.load(f)"
      ],
      "execution_count": 55,
      "outputs": []
    },
    {
      "cell_type": "code",
      "metadata": {
        "colab": {
          "base_uri": "https://localhost:8080/"
        },
        "id": "QVImQF6sZnAg",
        "outputId": "0c8ec44c-a4bd-4304-b4ef-75ea225a0b9e"
      },
      "source": [
        "data"
      ],
      "execution_count": 56,
      "outputs": [
        {
          "output_type": "execute_result",
          "data": {
            "text/plain": [
              "SVC(C=1.0, break_ties=False, cache_size=200, class_weight=None, coef0=0.0,\n",
              "    decision_function_shape='ovr', degree=3, gamma='scale', kernel='linear',\n",
              "    max_iter=-1, probability=False, random_state=None, shrinking=True,\n",
              "    tol=0.001, verbose=False)"
            ]
          },
          "metadata": {
            "tags": []
          },
          "execution_count": 56
        }
      ]
    },
    {
      "cell_type": "markdown",
      "metadata": {
        "id": "1Yn9tAulZyJS"
      },
      "source": [
        "$BY Gaurav Kabra$"
      ]
    }
  ]
}