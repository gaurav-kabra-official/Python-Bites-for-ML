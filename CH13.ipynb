{
  "nbformat": 4,
  "nbformat_minor": 0,
  "metadata": {
    "colab": {
      "name": "CH13.ipynb",
      "provenance": []
    },
    "kernelspec": {
      "name": "python3",
      "display_name": "Python 3"
    }
  },
  "cells": [
    {
      "cell_type": "markdown",
      "metadata": {
        "id": "h-UIMxO2qHJ4"
      },
      "source": [
        "## Dimensionality Reduction\r\n",
        "### Feature Extraction\r\n",
        "#### PCA"
      ]
    },
    {
      "cell_type": "code",
      "metadata": {
        "id": "louB1rewqBy8"
      },
      "source": [
        "# import libs\r\n",
        "from sklearn import datasets\r\n",
        "from sklearn.preprocessing import StandardScaler\r\n",
        "from sklearn.decomposition import PCA"
      ],
      "execution_count": 24,
      "outputs": []
    },
    {
      "cell_type": "code",
      "metadata": {
        "colab": {
          "base_uri": "https://localhost:8080/"
        },
        "id": "XggP4aHWqlog",
        "outputId": "283e405c-2720-45c7-baf3-d886c44f1fa5"
      },
      "source": [
        "data = datasets.load_digits()\r\n",
        "features = StandardScaler().fit_transform(data.data)\r\n",
        "features.shape"
      ],
      "execution_count": 25,
      "outputs": [
        {
          "output_type": "execute_result",
          "data": {
            "text/plain": [
              "(1797, 64)"
            ]
          },
          "metadata": {
            "tags": []
          },
          "execution_count": 25
        }
      ]
    },
    {
      "cell_type": "code",
      "metadata": {
        "colab": {
          "base_uri": "https://localhost:8080/"
        },
        "id": "tSUQmhXNqzk_",
        "outputId": "2089ec36-cb6b-48c2-c734-6293efdb45a9"
      },
      "source": [
        "# retain 99% variance\r\n",
        "f_pca = PCA(n_components=.99).fit_transform(features)\r\n",
        "f_pca.shape"
      ],
      "execution_count": 26,
      "outputs": [
        {
          "output_type": "execute_result",
          "data": {
            "text/plain": [
              "(1797, 54)"
            ]
          },
          "metadata": {
            "tags": []
          },
          "execution_count": 26
        }
      ]
    },
    {
      "cell_type": "markdown",
      "metadata": {
        "id": "cEBTNHy5xQwI"
      },
      "source": [
        "### Feature Selection"
      ]
    },
    {
      "cell_type": "code",
      "metadata": {
        "id": "FNHY1tgsxQWd"
      },
      "source": [
        "# low variance -> less information\r\n",
        "from sklearn.feature_selection import VarianceThreshold as VT, SelectKBest, chi2"
      ],
      "execution_count": 27,
      "outputs": []
    },
    {
      "cell_type": "code",
      "metadata": {
        "colab": {
          "base_uri": "https://localhost:8080/"
        },
        "id": "MF9K_cZTxqRH",
        "outputId": "f0a44c81-9b52-4d61-cccc-7de156b65f03"
      },
      "source": [
        "iris = datasets.load_iris()\r\n",
        "features, target = iris.data, iris.target\r\n",
        "\r\n",
        "features[0:5]"
      ],
      "execution_count": 28,
      "outputs": [
        {
          "output_type": "execute_result",
          "data": {
            "text/plain": [
              "array([[5.1, 3.5, 1.4, 0.2],\n",
              "       [4.9, 3. , 1.4, 0.2],\n",
              "       [4.7, 3.2, 1.3, 0.2],\n",
              "       [4.6, 3.1, 1.5, 0.2],\n",
              "       [5. , 3.6, 1.4, 0.2]])"
            ]
          },
          "metadata": {
            "tags": []
          },
          "execution_count": 28
        }
      ]
    },
    {
      "cell_type": "code",
      "metadata": {
        "id": "9RzgHCymyb5g"
      },
      "source": [
        "vt = VT(threshold=0.5)\r\n",
        "ft = vt.fit(features)"
      ],
      "execution_count": 29,
      "outputs": []
    },
    {
      "cell_type": "code",
      "metadata": {
        "colab": {
          "base_uri": "https://localhost:8080/"
        },
        "id": "LJqlrvcAxqNl",
        "outputId": "516ae6dd-8cef-483e-90e9-55009541b3ee"
      },
      "source": [
        "ft.variances_"
      ],
      "execution_count": 30,
      "outputs": [
        {
          "output_type": "execute_result",
          "data": {
            "text/plain": [
              "array([0.68112222, 0.18871289, 3.09550267, 0.57713289])"
            ]
          },
          "metadata": {
            "tags": []
          },
          "execution_count": 30
        }
      ]
    },
    {
      "cell_type": "code",
      "metadata": {
        "colab": {
          "base_uri": "https://localhost:8080/"
        },
        "id": "ygkky4XRxqJy",
        "outputId": "5ca1188f-57ce-4435-8076-434bb8813ad2"
      },
      "source": [
        "f_high_var = ft.transform(features)\r\n",
        "f_high_var[0:5]"
      ],
      "execution_count": 31,
      "outputs": [
        {
          "output_type": "execute_result",
          "data": {
            "text/plain": [
              "array([[5.1, 1.4, 0.2],\n",
              "       [4.9, 1.4, 0.2],\n",
              "       [4.7, 1.3, 0.2],\n",
              "       [4.6, 1.5, 0.2],\n",
              "       [5. , 1.4, 0.2]])"
            ]
          },
          "metadata": {
            "tags": []
          },
          "execution_count": 31
        }
      ]
    },
    {
      "cell_type": "markdown",
      "metadata": {
        "id": "DbRbA4AKymk0"
      },
      "source": [
        "####chi2"
      ]
    },
    {
      "cell_type": "code",
      "metadata": {
        "colab": {
          "base_uri": "https://localhost:8080/"
        },
        "id": "Wms1AfulxqDZ",
        "outputId": "81b0dbd3-ff82-4922-aea6-f9772b5e67b4"
      },
      "source": [
        "features = features.astype(int)\r\n",
        "features[0:5]"
      ],
      "execution_count": 32,
      "outputs": [
        {
          "output_type": "execute_result",
          "data": {
            "text/plain": [
              "array([[5, 3, 1, 0],\n",
              "       [4, 3, 1, 0],\n",
              "       [4, 3, 1, 0],\n",
              "       [4, 3, 1, 0],\n",
              "       [5, 3, 1, 0]])"
            ]
          },
          "metadata": {
            "tags": []
          },
          "execution_count": 32
        }
      ]
    },
    {
      "cell_type": "code",
      "metadata": {
        "colab": {
          "base_uri": "https://localhost:8080/"
        },
        "id": "V_cOA8GczMzb",
        "outputId": "edd86171-ffad-4c6a-8d43-0e72df1a9d7b"
      },
      "source": [
        "features.shape"
      ],
      "execution_count": 33,
      "outputs": [
        {
          "output_type": "execute_result",
          "data": {
            "text/plain": [
              "(150, 4)"
            ]
          },
          "metadata": {
            "tags": []
          },
          "execution_count": 33
        }
      ]
    },
    {
      "cell_type": "code",
      "metadata": {
        "colab": {
          "base_uri": "https://localhost:8080/"
        },
        "id": "1y1xVWxdxp2P",
        "outputId": "03e01cde-d3df-4a77-8ba2-3840fe179306"
      },
      "source": [
        "chi2_selector = SelectKBest(chi2, k=2)\r\n",
        "f_k_best = chi2_selector.fit_transform(features, target)\r\n",
        "f_k_best.shape"
      ],
      "execution_count": 34,
      "outputs": [
        {
          "output_type": "execute_result",
          "data": {
            "text/plain": [
              "(150, 2)"
            ]
          },
          "metadata": {
            "tags": []
          },
          "execution_count": 34
        }
      ]
    },
    {
      "cell_type": "markdown",
      "metadata": {
        "id": "UKWZzT3qraPR"
      },
      "source": [
        "$BY Gaurav Kabra$"
      ]
    }
  ]
}