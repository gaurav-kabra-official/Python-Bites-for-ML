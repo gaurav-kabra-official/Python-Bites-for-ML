{
  "nbformat": 4,
  "nbformat_minor": 0,
  "metadata": {
    "colab": {
      "name": "CH3.ipynb",
      "provenance": []
    },
    "kernelspec": {
      "name": "python3",
      "display_name": "Python 3"
    }
  },
  "cells": [
    {
      "cell_type": "markdown",
      "metadata": {
        "id": "9NXO2EtNTvqX"
      },
      "source": [
        "## Nominal"
      ]
    },
    {
      "cell_type": "code",
      "metadata": {
        "id": "rmlGPLKjQSeW"
      },
      "source": [
        "# One-hot encode\n",
        "import numpy as np\n",
        "import pandas as pd"
      ],
      "execution_count": 81,
      "outputs": []
    },
    {
      "cell_type": "code",
      "metadata": {
        "id": "qAvJ3wyYUWqx"
      },
      "source": [
        "fruits = np.array(\n",
        "    [\n",
        "     ['Apple'],\n",
        "     ['Banana'],\n",
        "     ['Cytrus']\n",
        "    ]\n",
        ")"
      ],
      "execution_count": 82,
      "outputs": []
    },
    {
      "cell_type": "code",
      "metadata": {
        "id": "xCanfuRhUmGS"
      },
      "source": [
        "df = pd.DataFrame(fruits, columns=['Name'])"
      ],
      "execution_count": 83,
      "outputs": []
    },
    {
      "cell_type": "code",
      "metadata": {
        "colab": {
          "base_uri": "https://localhost:8080/",
          "height": 0
        },
        "id": "DD6Utk8UU3GS",
        "outputId": "992f9cf7-246a-43fc-a027-0e34b9c4f923"
      },
      "source": [
        "df"
      ],
      "execution_count": 84,
      "outputs": [
        {
          "output_type": "execute_result",
          "data": {
            "text/html": [
              "<div>\n",
              "<style scoped>\n",
              "    .dataframe tbody tr th:only-of-type {\n",
              "        vertical-align: middle;\n",
              "    }\n",
              "\n",
              "    .dataframe tbody tr th {\n",
              "        vertical-align: top;\n",
              "    }\n",
              "\n",
              "    .dataframe thead th {\n",
              "        text-align: right;\n",
              "    }\n",
              "</style>\n",
              "<table border=\"1\" class=\"dataframe\">\n",
              "  <thead>\n",
              "    <tr style=\"text-align: right;\">\n",
              "      <th></th>\n",
              "      <th>Name</th>\n",
              "    </tr>\n",
              "  </thead>\n",
              "  <tbody>\n",
              "    <tr>\n",
              "      <th>0</th>\n",
              "      <td>Apple</td>\n",
              "    </tr>\n",
              "    <tr>\n",
              "      <th>1</th>\n",
              "      <td>Banana</td>\n",
              "    </tr>\n",
              "    <tr>\n",
              "      <th>2</th>\n",
              "      <td>Cytrus</td>\n",
              "    </tr>\n",
              "  </tbody>\n",
              "</table>\n",
              "</div>"
            ],
            "text/plain": [
              "     Name\n",
              "0   Apple\n",
              "1  Banana\n",
              "2  Cytrus"
            ]
          },
          "metadata": {
            "tags": []
          },
          "execution_count": 84
        }
      ]
    },
    {
      "cell_type": "code",
      "metadata": {
        "id": "MUd2BmSbU589"
      },
      "source": [
        "from sklearn.preprocessing import LabelBinarizer"
      ],
      "execution_count": 85,
      "outputs": []
    },
    {
      "cell_type": "code",
      "metadata": {
        "colab": {
          "base_uri": "https://localhost:8080/"
        },
        "id": "bz4qWkdfVLtK",
        "outputId": "cd5c6eb2-e39a-4211-d1fa-9f2e72229dfa"
      },
      "source": [
        "lb = LabelBinarizer()\n",
        "lb.fit_transform(df)"
      ],
      "execution_count": 86,
      "outputs": [
        {
          "output_type": "execute_result",
          "data": {
            "text/plain": [
              "array([[1, 0, 0],\n",
              "       [0, 1, 0],\n",
              "       [0, 0, 1]])"
            ]
          },
          "metadata": {
            "tags": []
          },
          "execution_count": 86
        }
      ]
    },
    {
      "cell_type": "code",
      "metadata": {
        "colab": {
          "base_uri": "https://localhost:8080/"
        },
        "id": "MpWUA8daVU2D",
        "outputId": "00f498b5-7777-4602-ce99-a733c3e07da4"
      },
      "source": [
        "lb.classes_"
      ],
      "execution_count": 87,
      "outputs": [
        {
          "output_type": "execute_result",
          "data": {
            "text/plain": [
              "array(['Apple', 'Banana', 'Cytrus'], dtype='<U6')"
            ]
          },
          "metadata": {
            "tags": []
          },
          "execution_count": 87
        }
      ]
    },
    {
      "cell_type": "markdown",
      "metadata": {
        "id": "Gi7K8urdV3MA"
      },
      "source": [
        "## Ordinal"
      ]
    },
    {
      "cell_type": "code",
      "metadata": {
        "id": "2St5EbRyVhuu"
      },
      "source": [
        "feedback = np.array(\n",
        "    [\n",
        "     ['Agree'],\n",
        "     ['Neutral'],\n",
        "     ['Disagree']\n",
        "    ]\n",
        ")\n",
        "df = pd.DataFrame(feedback,columns=['Reaction'])"
      ],
      "execution_count": 88,
      "outputs": []
    },
    {
      "cell_type": "code",
      "metadata": {
        "colab": {
          "base_uri": "https://localhost:8080/",
          "height": 0
        },
        "id": "6a-thyCJWCCC",
        "outputId": "dc6c1a6c-215e-452d-db8c-f9a9ca4e5623"
      },
      "source": [
        "df"
      ],
      "execution_count": 89,
      "outputs": [
        {
          "output_type": "execute_result",
          "data": {
            "text/html": [
              "<div>\n",
              "<style scoped>\n",
              "    .dataframe tbody tr th:only-of-type {\n",
              "        vertical-align: middle;\n",
              "    }\n",
              "\n",
              "    .dataframe tbody tr th {\n",
              "        vertical-align: top;\n",
              "    }\n",
              "\n",
              "    .dataframe thead th {\n",
              "        text-align: right;\n",
              "    }\n",
              "</style>\n",
              "<table border=\"1\" class=\"dataframe\">\n",
              "  <thead>\n",
              "    <tr style=\"text-align: right;\">\n",
              "      <th></th>\n",
              "      <th>Reaction</th>\n",
              "    </tr>\n",
              "  </thead>\n",
              "  <tbody>\n",
              "    <tr>\n",
              "      <th>0</th>\n",
              "      <td>Agree</td>\n",
              "    </tr>\n",
              "    <tr>\n",
              "      <th>1</th>\n",
              "      <td>Neutral</td>\n",
              "    </tr>\n",
              "    <tr>\n",
              "      <th>2</th>\n",
              "      <td>Disagree</td>\n",
              "    </tr>\n",
              "  </tbody>\n",
              "</table>\n",
              "</div>"
            ],
            "text/plain": [
              "   Reaction\n",
              "0     Agree\n",
              "1   Neutral\n",
              "2  Disagree"
            ]
          },
          "metadata": {
            "tags": []
          },
          "execution_count": 89
        }
      ]
    },
    {
      "cell_type": "code",
      "metadata": {
        "colab": {
          "base_uri": "https://localhost:8080/"
        },
        "id": "ce0kczttWHA_",
        "outputId": "e49595c5-7c79-4080-bf93-ea9d4e8a23d6"
      },
      "source": [
        "df['Reaction'].replace(\n",
        "    {\n",
        "        'Agree' : 1,\n",
        "        'Neutral' : 0,\n",
        "        'Disagree' : -1\n",
        "    }\n",
        ")"
      ],
      "execution_count": 90,
      "outputs": [
        {
          "output_type": "execute_result",
          "data": {
            "text/plain": [
              "0    1\n",
              "1    0\n",
              "2   -1\n",
              "Name: Reaction, dtype: int64"
            ]
          },
          "metadata": {
            "tags": []
          },
          "execution_count": 90
        }
      ]
    },
    {
      "cell_type": "markdown",
      "metadata": {
        "id": "9MLOf2P7XYFz"
      },
      "source": [
        "## Scaling"
      ]
    },
    {
      "cell_type": "code",
      "metadata": {
        "id": "iz2yBTIbWcPx"
      },
      "source": [
        "# min-max scaling\n",
        "arr = np.array(\n",
        "    [\n",
        "     [-10000],\n",
        "     [5],\n",
        "     [30000000]\n",
        "    ]\n",
        ")"
      ],
      "execution_count": 91,
      "outputs": []
    },
    {
      "cell_type": "code",
      "metadata": {
        "id": "r8-x6YrgXnlG"
      },
      "source": [
        "from sklearn.preprocessing import MinMaxScaler"
      ],
      "execution_count": 92,
      "outputs": []
    },
    {
      "cell_type": "code",
      "metadata": {
        "colab": {
          "base_uri": "https://localhost:8080/"
        },
        "id": "zreHRpGWXudf",
        "outputId": "e1bc9a10-1ab3-4f6c-de41-c470ae61bfc9"
      },
      "source": [
        "mms = MinMaxScaler(feature_range=(0,1))\n",
        "mms.fit_transform(pd.DataFrame(arr))"
      ],
      "execution_count": 93,
      "outputs": [
        {
          "output_type": "execute_result",
          "data": {
            "text/plain": [
              "array([[0.0000000e+00],\n",
              "       [3.3338887e-04],\n",
              "       [1.0000000e+00]])"
            ]
          },
          "metadata": {
            "tags": []
          },
          "execution_count": 93
        }
      ]
    },
    {
      "cell_type": "code",
      "metadata": {
        "id": "OuRl9XbxYQhy"
      },
      "source": [
        "# standard scaling\n",
        "from sklearn.preprocessing import StandardScaler"
      ],
      "execution_count": 94,
      "outputs": []
    },
    {
      "cell_type": "code",
      "metadata": {
        "colab": {
          "base_uri": "https://localhost:8080/"
        },
        "id": "AsMeckg1Ywym",
        "outputId": "60571138-b71a-4cce-8f70-60b17eef89e5"
      },
      "source": [
        "ss = StandardScaler()\n",
        "ss.fit_transform(pd.DataFrame(arr))"
      ],
      "execution_count": 95,
      "outputs": [
        {
          "output_type": "execute_result",
          "data": {
            "text/plain": [
              "array([[-0.70746042],\n",
              "       [-0.70675308],\n",
              "       [ 1.4142135 ]])"
            ]
          },
          "metadata": {
            "tags": []
          },
          "execution_count": 95
        }
      ]
    },
    {
      "cell_type": "markdown",
      "metadata": {
        "id": "p3DJOR1PZgCJ"
      },
      "source": [
        "## Outliers"
      ]
    },
    {
      "cell_type": "code",
      "metadata": {
        "colab": {
          "base_uri": "https://localhost:8080/",
          "height": 0
        },
        "id": "UYwdagPDY7p0",
        "outputId": "3b693a3a-e152-4648-a0ea-42e4e4242e4d"
      },
      "source": [
        "# create one!\n",
        "houses = pd.DataFrame()\n",
        "\n",
        "houses[\"Bathrooms\"] = [2, 1, 300]\n",
        "houses[\"Price\"] = [1500, 1200, 100000]\n",
        "\n",
        "houses"
      ],
      "execution_count": 96,
      "outputs": [
        {
          "output_type": "execute_result",
          "data": {
            "text/html": [
              "<div>\n",
              "<style scoped>\n",
              "    .dataframe tbody tr th:only-of-type {\n",
              "        vertical-align: middle;\n",
              "    }\n",
              "\n",
              "    .dataframe tbody tr th {\n",
              "        vertical-align: top;\n",
              "    }\n",
              "\n",
              "    .dataframe thead th {\n",
              "        text-align: right;\n",
              "    }\n",
              "</style>\n",
              "<table border=\"1\" class=\"dataframe\">\n",
              "  <thead>\n",
              "    <tr style=\"text-align: right;\">\n",
              "      <th></th>\n",
              "      <th>Bathrooms</th>\n",
              "      <th>Price</th>\n",
              "    </tr>\n",
              "  </thead>\n",
              "  <tbody>\n",
              "    <tr>\n",
              "      <th>0</th>\n",
              "      <td>2</td>\n",
              "      <td>1500</td>\n",
              "    </tr>\n",
              "    <tr>\n",
              "      <th>1</th>\n",
              "      <td>1</td>\n",
              "      <td>1200</td>\n",
              "    </tr>\n",
              "    <tr>\n",
              "      <th>2</th>\n",
              "      <td>300</td>\n",
              "      <td>100000</td>\n",
              "    </tr>\n",
              "  </tbody>\n",
              "</table>\n",
              "</div>"
            ],
            "text/plain": [
              "   Bathrooms   Price\n",
              "0          2    1500\n",
              "1          1    1200\n",
              "2        300  100000"
            ]
          },
          "metadata": {
            "tags": []
          },
          "execution_count": 96
        }
      ]
    },
    {
      "cell_type": "code",
      "metadata": {
        "id": "_OhOwRQkjBi-"
      },
      "source": [
        "# clearly house with 300 bathrooms is hotel \n",
        "# hence outlier"
      ],
      "execution_count": 97,
      "outputs": []
    },
    {
      "cell_type": "code",
      "metadata": {
        "colab": {
          "base_uri": "https://localhost:8080/",
          "height": 0
        },
        "id": "opfsdS4FjOFk",
        "outputId": "412bd57e-68d2-4f7a-89a3-833c1c1aa5c0"
      },
      "source": [
        "# Way 1 : remove outlier\n",
        "threshold = 3\n",
        "houses[houses[\"Bathrooms\"] <= threshold]"
      ],
      "execution_count": 98,
      "outputs": [
        {
          "output_type": "execute_result",
          "data": {
            "text/html": [
              "<div>\n",
              "<style scoped>\n",
              "    .dataframe tbody tr th:only-of-type {\n",
              "        vertical-align: middle;\n",
              "    }\n",
              "\n",
              "    .dataframe tbody tr th {\n",
              "        vertical-align: top;\n",
              "    }\n",
              "\n",
              "    .dataframe thead th {\n",
              "        text-align: right;\n",
              "    }\n",
              "</style>\n",
              "<table border=\"1\" class=\"dataframe\">\n",
              "  <thead>\n",
              "    <tr style=\"text-align: right;\">\n",
              "      <th></th>\n",
              "      <th>Bathrooms</th>\n",
              "      <th>Price</th>\n",
              "    </tr>\n",
              "  </thead>\n",
              "  <tbody>\n",
              "    <tr>\n",
              "      <th>0</th>\n",
              "      <td>2</td>\n",
              "      <td>1500</td>\n",
              "    </tr>\n",
              "    <tr>\n",
              "      <th>1</th>\n",
              "      <td>1</td>\n",
              "      <td>1200</td>\n",
              "    </tr>\n",
              "  </tbody>\n",
              "</table>\n",
              "</div>"
            ],
            "text/plain": [
              "   Bathrooms  Price\n",
              "0          2   1500\n",
              "1          1   1200"
            ]
          },
          "metadata": {
            "tags": []
          },
          "execution_count": 98
        }
      ]
    },
    {
      "cell_type": "code",
      "metadata": {
        "colab": {
          "base_uri": "https://localhost:8080/",
          "height": 0
        },
        "id": "aQNdPk4GjZmq",
        "outputId": "72c69d4e-1300-4d16-ed3d-c9cbb54eca68"
      },
      "source": [
        "# Way 2 : mark as outlier\n",
        "houses[\"Outlier\"] = houses[\"Bathrooms\"] > threshold\n",
        "houses"
      ],
      "execution_count": 99,
      "outputs": [
        {
          "output_type": "execute_result",
          "data": {
            "text/html": [
              "<div>\n",
              "<style scoped>\n",
              "    .dataframe tbody tr th:only-of-type {\n",
              "        vertical-align: middle;\n",
              "    }\n",
              "\n",
              "    .dataframe tbody tr th {\n",
              "        vertical-align: top;\n",
              "    }\n",
              "\n",
              "    .dataframe thead th {\n",
              "        text-align: right;\n",
              "    }\n",
              "</style>\n",
              "<table border=\"1\" class=\"dataframe\">\n",
              "  <thead>\n",
              "    <tr style=\"text-align: right;\">\n",
              "      <th></th>\n",
              "      <th>Bathrooms</th>\n",
              "      <th>Price</th>\n",
              "      <th>Outlier</th>\n",
              "    </tr>\n",
              "  </thead>\n",
              "  <tbody>\n",
              "    <tr>\n",
              "      <th>0</th>\n",
              "      <td>2</td>\n",
              "      <td>1500</td>\n",
              "      <td>False</td>\n",
              "    </tr>\n",
              "    <tr>\n",
              "      <th>1</th>\n",
              "      <td>1</td>\n",
              "      <td>1200</td>\n",
              "      <td>False</td>\n",
              "    </tr>\n",
              "    <tr>\n",
              "      <th>2</th>\n",
              "      <td>300</td>\n",
              "      <td>100000</td>\n",
              "      <td>True</td>\n",
              "    </tr>\n",
              "  </tbody>\n",
              "</table>\n",
              "</div>"
            ],
            "text/plain": [
              "   Bathrooms   Price  Outlier\n",
              "0          2    1500    False\n",
              "1          1    1200    False\n",
              "2        300  100000     True"
            ]
          },
          "metadata": {
            "tags": []
          },
          "execution_count": 99
        }
      ]
    },
    {
      "cell_type": "code",
      "metadata": {
        "colab": {
          "base_uri": "https://localhost:8080/",
          "height": 0
        },
        "id": "LyqDeVF2jnbq",
        "outputId": "5d3e2213-a0bf-42a0-d35f-2e707f721c03"
      },
      "source": [
        "# also can use np.where\n",
        "houses[\"Outlier\"] = np.where(houses[\"Bathrooms\"] > threshold, 1, 0)\n",
        "houses"
      ],
      "execution_count": 100,
      "outputs": [
        {
          "output_type": "execute_result",
          "data": {
            "text/html": [
              "<div>\n",
              "<style scoped>\n",
              "    .dataframe tbody tr th:only-of-type {\n",
              "        vertical-align: middle;\n",
              "    }\n",
              "\n",
              "    .dataframe tbody tr th {\n",
              "        vertical-align: top;\n",
              "    }\n",
              "\n",
              "    .dataframe thead th {\n",
              "        text-align: right;\n",
              "    }\n",
              "</style>\n",
              "<table border=\"1\" class=\"dataframe\">\n",
              "  <thead>\n",
              "    <tr style=\"text-align: right;\">\n",
              "      <th></th>\n",
              "      <th>Bathrooms</th>\n",
              "      <th>Price</th>\n",
              "      <th>Outlier</th>\n",
              "    </tr>\n",
              "  </thead>\n",
              "  <tbody>\n",
              "    <tr>\n",
              "      <th>0</th>\n",
              "      <td>2</td>\n",
              "      <td>1500</td>\n",
              "      <td>0</td>\n",
              "    </tr>\n",
              "    <tr>\n",
              "      <th>1</th>\n",
              "      <td>1</td>\n",
              "      <td>1200</td>\n",
              "      <td>0</td>\n",
              "    </tr>\n",
              "    <tr>\n",
              "      <th>2</th>\n",
              "      <td>300</td>\n",
              "      <td>100000</td>\n",
              "      <td>1</td>\n",
              "    </tr>\n",
              "  </tbody>\n",
              "</table>\n",
              "</div>"
            ],
            "text/plain": [
              "   Bathrooms   Price  Outlier\n",
              "0          2    1500        0\n",
              "1          1    1200        0\n",
              "2        300  100000        1"
            ]
          },
          "metadata": {
            "tags": []
          },
          "execution_count": 100
        }
      ]
    },
    {
      "cell_type": "code",
      "metadata": {
        "id": "YdcoPx04khJe"
      },
      "source": [
        "# Detect outlier\n",
        "from sklearn.covariance import EllipticEnvelope"
      ],
      "execution_count": 101,
      "outputs": []
    },
    {
      "cell_type": "code",
      "metadata": {
        "id": "s0aiwGydt7DF",
        "outputId": "a10e45fb-1d94-4b03-92f3-5f12082e7e9d",
        "colab": {
          "base_uri": "https://localhost:8080/"
        }
      },
      "source": [
        "ee = EllipticEnvelope(contamination=0.1)\n",
        "ee.fit(houses)\n",
        "ee.predict(houses)"
      ],
      "execution_count": 102,
      "outputs": [
        {
          "output_type": "execute_result",
          "data": {
            "text/plain": [
              "array([ 1,  1, -1])"
            ]
          },
          "metadata": {
            "tags": []
          },
          "execution_count": 102
        }
      ]
    },
    {
      "cell_type": "markdown",
      "metadata": {
        "id": "KY0308ikuj0F"
      },
      "source": [
        "## Bins"
      ]
    },
    {
      "cell_type": "code",
      "metadata": {
        "id": "bycRYu62uM8t"
      },
      "source": [
        "arr = np.array(\n",
        "    [\n",
        "     [33],\n",
        "     [67],\n",
        "     [90],\n",
        "     [13]\n",
        "    ]\n",
        ")"
      ],
      "execution_count": 103,
      "outputs": []
    },
    {
      "cell_type": "code",
      "metadata": {
        "id": "VIVwEDVDu0mO",
        "outputId": "4c78ea60-943b-431b-d41c-60b7702085ea",
        "colab": {
          "base_uri": "https://localhost:8080/"
        }
      },
      "source": [
        "np.digitize(arr, bins=[33, 75, 100], right=True)"
      ],
      "execution_count": 104,
      "outputs": [
        {
          "output_type": "execute_result",
          "data": {
            "text/plain": [
              "array([[0],\n",
              "       [1],\n",
              "       [2],\n",
              "       [0]])"
            ]
          },
          "metadata": {
            "tags": []
          },
          "execution_count": 104
        }
      ]
    },
    {
      "cell_type": "markdown",
      "metadata": {
        "id": "epmtL5KfvIhR"
      },
      "source": [
        "## Missing values predict"
      ]
    },
    {
      "cell_type": "code",
      "metadata": {
        "id": "n5sJQ27Cu8S6"
      },
      "source": [
        "arr = np.array(\n",
        "    [\n",
        "     [101, 1010],\n",
        "     [11.1, 111],\n",
        "     [np.nan, 130]\n",
        "    ]\n",
        ")"
      ],
      "execution_count": 105,
      "outputs": []
    },
    {
      "cell_type": "code",
      "metadata": {
        "id": "UV3RFDJ6vhe2",
        "outputId": "2219b323-1c0b-42e4-a402-f065521c66f4",
        "colab": {
          "base_uri": "https://localhost:8080/",
          "height": 106
        }
      },
      "source": [
        "# we can drop also\n",
        "df = pd.DataFrame(arr)\n",
        "df.dropna()"
      ],
      "execution_count": 106,
      "outputs": [
        {
          "output_type": "execute_result",
          "data": {
            "text/html": [
              "<div>\n",
              "<style scoped>\n",
              "    .dataframe tbody tr th:only-of-type {\n",
              "        vertical-align: middle;\n",
              "    }\n",
              "\n",
              "    .dataframe tbody tr th {\n",
              "        vertical-align: top;\n",
              "    }\n",
              "\n",
              "    .dataframe thead th {\n",
              "        text-align: right;\n",
              "    }\n",
              "</style>\n",
              "<table border=\"1\" class=\"dataframe\">\n",
              "  <thead>\n",
              "    <tr style=\"text-align: right;\">\n",
              "      <th></th>\n",
              "      <th>0</th>\n",
              "      <th>1</th>\n",
              "    </tr>\n",
              "  </thead>\n",
              "  <tbody>\n",
              "    <tr>\n",
              "      <th>0</th>\n",
              "      <td>101.0</td>\n",
              "      <td>1010.0</td>\n",
              "    </tr>\n",
              "    <tr>\n",
              "      <th>1</th>\n",
              "      <td>11.1</td>\n",
              "      <td>111.0</td>\n",
              "    </tr>\n",
              "  </tbody>\n",
              "</table>\n",
              "</div>"
            ],
            "text/plain": [
              "       0       1\n",
              "0  101.0  1010.0\n",
              "1   11.1   111.0"
            ]
          },
          "metadata": {
            "tags": []
          },
          "execution_count": 106
        }
      ]
    },
    {
      "cell_type": "code",
      "metadata": {
        "id": "IDFS7ZIIvzGW"
      },
      "source": [
        "from sklearn.impute import SimpleImputer"
      ],
      "execution_count": 107,
      "outputs": []
    },
    {
      "cell_type": "code",
      "metadata": {
        "id": "XJGoMhvkv4nQ",
        "outputId": "68f4daf6-a02b-4c65-9c51-31779da8785a",
        "colab": {
          "base_uri": "https://localhost:8080/"
        }
      },
      "source": [
        "# default strategy = mean\n",
        "ip = SimpleImputer()\n",
        "ip.fit_transform(df)"
      ],
      "execution_count": 108,
      "outputs": [
        {
          "output_type": "execute_result",
          "data": {
            "text/plain": [
              "array([[ 101.  , 1010.  ],\n",
              "       [  11.1 ,  111.  ],\n",
              "       [  56.05,  130.  ]])"
            ]
          },
          "metadata": {
            "tags": []
          },
          "execution_count": 108
        }
      ]
    },
    {
      "cell_type": "code",
      "metadata": {
        "id": "huZP48wsw3aA",
        "outputId": "df5116ed-0aeb-450e-b879-5c99cd17ac91",
        "colab": {
          "base_uri": "https://localhost:8080/"
        }
      },
      "source": [
        "# default strategy = mean\n",
        "ip = SimpleImputer()\n",
        "ip.fit_transform(df)"
      ],
      "execution_count": 109,
      "outputs": [
        {
          "output_type": "execute_result",
          "data": {
            "text/plain": [
              "array([[ 101.  , 1010.  ],\n",
              "       [  11.1 ,  111.  ],\n",
              "       [  56.05,  130.  ]])"
            ]
          },
          "metadata": {
            "tags": []
          },
          "execution_count": 109
        }
      ]
    },
    {
      "cell_type": "code",
      "metadata": {
        "id": "enKSgX-MxJTb"
      },
      "source": [
        "# Since data small, can use KNN\n",
        "from sklearn.impute import KNNImputer"
      ],
      "execution_count": 110,
      "outputs": []
    },
    {
      "cell_type": "code",
      "metadata": {
        "id": "JOkWCLINxXsg",
        "outputId": "7dfa5b28-4a88-47e3-8274-ce5584aea24a",
        "colab": {
          "base_uri": "https://localhost:8080/"
        }
      },
      "source": [
        "KNNImputer().fit_transform(df)"
      ],
      "execution_count": 111,
      "outputs": [
        {
          "output_type": "execute_result",
          "data": {
            "text/plain": [
              "array([[ 101.  , 1010.  ],\n",
              "       [  11.1 ,  111.  ],\n",
              "       [  56.05,  130.  ]])"
            ]
          },
          "metadata": {
            "tags": []
          },
          "execution_count": 111
        }
      ]
    },
    {
      "cell_type": "markdown",
      "metadata": {
        "id": "xP7KGuL0vHha"
      },
      "source": [
        "$By Gaurav Kabra$"
      ]
    }
  ]
}